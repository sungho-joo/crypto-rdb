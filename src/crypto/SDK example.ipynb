{
 "cells": [
  {
   "cell_type": "markdown",
   "metadata": {},
   "source": [
    "# Data getter example"
   ]
  },
  {
   "cell_type": "markdown",
   "metadata": {},
   "source": [
    "### 1. Initialize data getter\n",
    "- Currently supports KRW-BTC and KRW-ETH"
   ]
  },
  {
   "cell_type": "code",
   "execution_count": 18,
   "metadata": {},
   "outputs": [],
   "source": [
    "from sdk.data_getter import DataGetter\n",
    "\n",
    "# Choose market code of interest\n",
    "market_codes = [\"KRW-BTC\", \"KRW-ETH\"]\n",
    "data_getter = DataGetter(market_codes=market_codes)"
   ]
  },
  {
   "cell_type": "markdown",
   "metadata": {},
   "source": [
    "### 2. Check avaliable stats\n",
    "- Write the date in isoformat string (\"YYYY-MM-DD\")"
   ]
  },
  {
   "cell_type": "code",
   "execution_count": 19,
   "metadata": {
    "scrolled": true
   },
   "outputs": [
    {
     "data": {
      "text/plain": [
       "['price', 'bid_accumulation', 'ask_accumulation']"
      ]
     },
     "execution_count": 19,
     "metadata": {},
     "output_type": "execute_result"
    }
   ],
   "source": [
    "stats = data_getter.stats\n",
    "stats"
   ]
  },
  {
   "cell_type": "markdown",
   "metadata": {},
   "source": [
    "### 3. Request data\n",
    "- Returns data in between start date and end date inclusive\n",
    "- Return data format is dictionary of pandas Dataframe with key being market code of interest\n",
    "    - data: Dict[str, pd.DataFrame]"
   ]
  },
  {
   "cell_type": "code",
   "execution_count": 20,
   "metadata": {},
   "outputs": [],
   "source": [
    "start_date = '2022-06-10'\n",
    "end_date = '2022-06-11'\n",
    "stat = 'price'\n",
    "\n",
    "data = data_getter.get_stat_range_data(stat, start_date, end_date)"
   ]
  },
  {
   "cell_type": "code",
   "execution_count": 22,
   "metadata": {
    "scrolled": false
   },
   "outputs": [
    {
     "name": "stdout",
     "output_type": "stream",
     "text": [
      "KRW-BTC\n"
     ]
    },
    {
     "data": {
      "text/html": [
       "<div>\n",
       "<style scoped>\n",
       "    .dataframe tbody tr th:only-of-type {\n",
       "        vertical-align: middle;\n",
       "    }\n",
       "\n",
       "    .dataframe tbody tr th {\n",
       "        vertical-align: top;\n",
       "    }\n",
       "\n",
       "    .dataframe thead th {\n",
       "        text-align: right;\n",
       "    }\n",
       "</style>\n",
       "<table border=\"1\" class=\"dataframe\">\n",
       "  <thead>\n",
       "    <tr style=\"text-align: right;\">\n",
       "      <th></th>\n",
       "      <th>Trade date</th>\n",
       "      <th>Trade time</th>\n",
       "      <th>trade_date</th>\n",
       "    </tr>\n",
       "  </thead>\n",
       "  <tbody>\n",
       "    <tr>\n",
       "      <th>0</th>\n",
       "      <td>2022-06-11</td>\n",
       "      <td>07:41:43</td>\n",
       "      <td>37797000.0</td>\n",
       "    </tr>\n",
       "    <tr>\n",
       "      <th>1</th>\n",
       "      <td>2022-06-11</td>\n",
       "      <td>07:41:43</td>\n",
       "      <td>37797000.0</td>\n",
       "    </tr>\n",
       "    <tr>\n",
       "      <th>2</th>\n",
       "      <td>2022-06-11</td>\n",
       "      <td>07:41:43</td>\n",
       "      <td>37796000.0</td>\n",
       "    </tr>\n",
       "    <tr>\n",
       "      <th>3</th>\n",
       "      <td>2022-06-11</td>\n",
       "      <td>07:41:48</td>\n",
       "      <td>37796000.0</td>\n",
       "    </tr>\n",
       "    <tr>\n",
       "      <th>4</th>\n",
       "      <td>2022-06-11</td>\n",
       "      <td>07:41:49</td>\n",
       "      <td>37797000.0</td>\n",
       "    </tr>\n",
       "  </tbody>\n",
       "</table>\n",
       "</div>"
      ],
      "text/plain": [
       "   Trade date Trade time  trade_date\n",
       "0  2022-06-11   07:41:43  37797000.0\n",
       "1  2022-06-11   07:41:43  37797000.0\n",
       "2  2022-06-11   07:41:43  37796000.0\n",
       "3  2022-06-11   07:41:48  37796000.0\n",
       "4  2022-06-11   07:41:49  37797000.0"
      ]
     },
     "metadata": {},
     "output_type": "display_data"
    },
    {
     "name": "stdout",
     "output_type": "stream",
     "text": [
      "KRW-ETH\n"
     ]
    },
    {
     "data": {
      "text/html": [
       "<div>\n",
       "<style scoped>\n",
       "    .dataframe tbody tr th:only-of-type {\n",
       "        vertical-align: middle;\n",
       "    }\n",
       "\n",
       "    .dataframe tbody tr th {\n",
       "        vertical-align: top;\n",
       "    }\n",
       "\n",
       "    .dataframe thead th {\n",
       "        text-align: right;\n",
       "    }\n",
       "</style>\n",
       "<table border=\"1\" class=\"dataframe\">\n",
       "  <thead>\n",
       "    <tr style=\"text-align: right;\">\n",
       "      <th></th>\n",
       "      <th>Trade date</th>\n",
       "      <th>Trade time</th>\n",
       "      <th>trade_date</th>\n",
       "    </tr>\n",
       "  </thead>\n",
       "  <tbody>\n",
       "    <tr>\n",
       "      <th>0</th>\n",
       "      <td>2022-06-11</td>\n",
       "      <td>07:41:45</td>\n",
       "      <td>2151000.0</td>\n",
       "    </tr>\n",
       "    <tr>\n",
       "      <th>1</th>\n",
       "      <td>2022-06-11</td>\n",
       "      <td>07:41:46</td>\n",
       "      <td>2151000.0</td>\n",
       "    </tr>\n",
       "    <tr>\n",
       "      <th>2</th>\n",
       "      <td>2022-06-11</td>\n",
       "      <td>07:41:46</td>\n",
       "      <td>2151000.0</td>\n",
       "    </tr>\n",
       "    <tr>\n",
       "      <th>3</th>\n",
       "      <td>2022-06-11</td>\n",
       "      <td>07:41:55</td>\n",
       "      <td>2151000.0</td>\n",
       "    </tr>\n",
       "    <tr>\n",
       "      <th>4</th>\n",
       "      <td>2022-06-11</td>\n",
       "      <td>07:41:55</td>\n",
       "      <td>2151000.0</td>\n",
       "    </tr>\n",
       "  </tbody>\n",
       "</table>\n",
       "</div>"
      ],
      "text/plain": [
       "   Trade date Trade time  trade_date\n",
       "0  2022-06-11   07:41:45   2151000.0\n",
       "1  2022-06-11   07:41:46   2151000.0\n",
       "2  2022-06-11   07:41:46   2151000.0\n",
       "3  2022-06-11   07:41:55   2151000.0\n",
       "4  2022-06-11   07:41:55   2151000.0"
      ]
     },
     "metadata": {},
     "output_type": "display_data"
    }
   ],
   "source": [
    "print(\"KRW-BTC\")\n",
    "display(data['KRW-BTC'].head())\n",
    "print(\"KRW-ETH\")\n",
    "display(data['KRW-ETH'].head())"
   ]
  }
 ],
 "metadata": {
  "kernelspec": {
   "display_name": "Python 3",
   "language": "python",
   "name": "python3"
  },
  "language_info": {
   "codemirror_mode": {
    "name": "ipython",
    "version": 3
   },
   "file_extension": ".py",
   "mimetype": "text/x-python",
   "name": "python",
   "nbconvert_exporter": "python",
   "pygments_lexer": "ipython3",
   "version": "3.7.3"
  }
 },
 "nbformat": 4,
 "nbformat_minor": 2
}
